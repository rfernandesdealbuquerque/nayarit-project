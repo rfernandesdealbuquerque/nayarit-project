{
 "cells": [
  {
   "cell_type": "code",
   "execution_count": 4,
   "metadata": {},
   "outputs": [],
   "source": [
    "import numpy as np\n",
    "import pandas as pd\n",
    "import matplotlib.pyplot as plt\n",
    "from thefuzz import process\n",
    "import re\n",
    "import datetime\n",
    "import seaborn as sns\n",
    "from scipy import interpolate"
   ]
  },
  {
   "cell_type": "markdown",
   "metadata": {},
   "source": [
    "## Importing Excel Files"
   ]
  },
  {
   "cell_type": "code",
   "execution_count": null,
   "metadata": {},
   "outputs": [],
   "source": [
    "filename_magist_12_16 = 'spreadsheets/MAGISTERIO_12_16.xlsx'\n",
    "filename_magist_17_22 = 'spreadsheets/MAGISTERIO_17_22.xlsx'\n",
    "filename_buroc_12_22 = 'spreadsheets/BUROCRACIA_12_22.xlsx'\n",
    "magist_12_16_xls = pd.read_excel(filename_magist_12_16, dtype=str)\n",
    "magist_17_22_xls = pd.read_excel(filename_magist_17_22, dtype=str)\n",
    "buroc_12_22_xls = pd.read_excel(filename_buroc_12_22, dtype=str)"
   ]
  },
  {
   "cell_type": "markdown",
   "metadata": {},
   "source": [
    "## Converting Excel to CSV \n",
    "CSV is faster to work with"
   ]
  },
  {
   "cell_type": "code",
   "execution_count": null,
   "metadata": {},
   "outputs": [],
   "source": [
    "magist_12_16_xls.to_csv('csv files/magist_12_16.csv', index=None, header=True)\n",
    "magist_17_22_xls.to_csv('csv files/magist_17_22.csv', index=None, header=True)\n",
    "buroc_12_22_xls.to_csv('csv files/buroc_12_22.csv', index=None, header=True)"
   ]
  },
  {
   "cell_type": "markdown",
   "metadata": {},
   "source": [
    "## Load CSVs into DataFrames"
   ]
  },
  {
   "cell_type": "code",
   "execution_count": null,
   "metadata": {},
   "outputs": [],
   "source": [
    "#Load CSVs into DataFrames\n",
    "magist_12_16 = pd.read_csv('csv files/magist_12_16.csv', dtype=str)\n",
    "magist_17_22= pd.read_csv('csv files/magist_17_22.csv', dtype=str)\n",
    "buroc_12_22 = pd.read_csv('csv files/buroc_12_22.csv', dtype=str)\n",
    "dataframes = [magist_12_16, magist_17_22, buroc_12_22]"
   ]
  },
  {
   "cell_type": "code",
   "execution_count": null,
   "metadata": {},
   "outputs": [],
   "source": [
    "pd.set_option('display.max_columns', None)\n",
    "pd.set_option('display.max_rows', None)\n",
    "print('magist_12_16:',magist_12_16.shape)\n",
    "print('magist_17_22:',magist_17_22.shape)\n",
    "print('buroc_12_22:',buroc_12_22.shape)\n"
   ]
  },
  {
   "cell_type": "markdown",
   "metadata": {},
   "source": [
    "## Change type of numerical columns"
   ]
  },
  {
   "cell_type": "code",
   "execution_count": null,
   "metadata": {},
   "outputs": [],
   "source": [
    "for col in magist_12_16.columns[18:]:\n",
    "    magist_12_16[col] = magist_12_16[col].astype(float)\n",
    "\n",
    "for col in magist_17_22.columns[24:]:\n",
    "    magist_17_22[col] = magist_17_22[col].astype(float)\n",
    "\n",
    "for col in buroc_12_22.columns[24:]:\n",
    "    buroc_12_22[col] = buroc_12_22[col].astype(float)"
   ]
  },
  {
   "cell_type": "markdown",
   "metadata": {},
   "source": [
    "## Validating and Fixing RFCs - Part 1\n",
    "\n",
    "1. Remove leading and trailing spaces\n",
    "2. The number of RFC characters must be equal or greater than 10\n",
    "3. Check if all first 4 characters are letters\n"
   ]
  },
  {
   "cell_type": "code",
   "execution_count": null,
   "metadata": {},
   "outputs": [],
   "source": [
    "magist_12_16.drop(magist_12_16.tail(1).index, inplace=True) #Removing last row which consist of sum\n",
    "#--------------------------------------------------------------------------------------------------------\n",
    "# 1. Remove Spaces\n",
    "#--------------------------------------------------------------------------------------------------------\n",
    "for df in dataframes:\n",
    "    df['RFC'] = df['RFC'].astype(str).str.strip()\n",
    "\n",
    "#--------------------------------------------------------------------------------------------------------\n",
    "# 2. Check if all RFCs have the expected number characters (13) and correct the wrong ones\n",
    "# Many RFCs don't have the last three digits, but they are not really important for the analysis. We can only check for the first 10 digits because we need them for date of birth\n",
    "# For the RFCs with less then 10 characters, let's get from CURP\n",
    "#--------------------------------------------------------------------------------------------------------\n",
    "print('Less than 10 characters RFCs from magist_12_16:\\n', magist_12_16.loc[magist_12_16['RFC'].str.len() < 10][['NOMBRE','RFC', 'CURP']].sort_values(by='NOMBRE'))\n",
    "magist_12_16.loc[magist_12_16['RFC'].str.len() < 10, 'RFC'] = magist_12_16.loc[magist_12_16['RFC'].str.len() < 10, 'CURP'].str[0:10]\n",
    "\n",
    "print(' Less than 10 characters RFCs RFCs from magist_17_22:\\n', magist_17_22.loc[magist_17_22['RFC'].str.len() < 10][['NOMBRE','RFC', 'CURP']].sort_values(by='NOMBRE'))\n",
    "magist_17_22.loc[magist_17_22['RFC'].str.len() < 10, 'RFC'] = magist_17_22.loc[magist_17_22['RFC'].str.len() < 10, 'CURP'].str[0:10]\n",
    "\n",
    "print('Less than 10 characters RFCs from buroc_12_22:\\n', buroc_12_22.loc[buroc_12_22['RFC'].str.len() < 10][['NOMBRE','RFC', 'CURP']].sort_values(by='NOMBRE'))\n",
    "buroc_12_22.loc[buroc_12_22['RFC'].str.len() < 10, 'RFC'] = buroc_12_22.loc[buroc_12_22['RFC'].str.len() < 10, 'CURP'].str[0:10]\n",
    "#   For those RFCs that don't have CURP, let's make it 0000000000\n",
    "magist_12_16.loc[magist_12_16['RFC'].str.len() < 10, 'RFC'] = 'AAAA000000' \n",
    "magist_17_22.loc[magist_17_22['RFC'].str.len() < 10, 'RFC'] = 'AAAA000000' \n",
    "buroc_12_22.loc[buroc_12_22['RFC'].str.len() < 10, 'RFC'] = 'AAAA000000' \n",
    "\n",
    "#--------------------------------------------------------------------------------------------------------\n",
    "# 3. Check if the first 4 RFC characters are all letters and correct them\n",
    "#--------------------------------------------------------------------------------------------------------\n",
    "magist_12_16['RFC_4'] = magist_12_16['RFC'].str.slice(0,4)\n",
    "print('Non-alpha first 4 characters RFCs from magist_12_16:\\n', magist_12_16.loc[~magist_12_16['RFC_4'].str.isalpha()][['NOMBRE','RFC', 'CURP']].sort_values(by='NOMBRE'))\n",
    "magist_12_16.loc[~magist_12_16['RFC_4'].str.isalpha(), 'RFC'] = magist_12_16.loc[~magist_12_16['RFC_4'].str.isalpha(), 'CURP'].str[0:10]\n",
    "\n",
    "magist_17_22['RFC_4'] = magist_17_22['RFC'].str.slice(0,4)\n",
    "print('--------------------------------------------------------------------------------------------------------')\n",
    "print('Non-alpha first 4 characters RFCs from magist_17_22:\\n', magist_17_22.loc[~magist_17_22['RFC_4'].str.isalpha()][['NOMBRE','RFC', 'CURP']].sort_values(by='NOMBRE'))\n",
    "magist_17_22.loc[~magist_17_22['RFC_4'].str.isalpha(), 'RFC'] = magist_17_22.loc[~magist_17_22['RFC_4'].str.isalpha(), 'CURP'].str[0:10]\n",
    "magist_17_22.iloc[76397]['RFC'] = 'BEHL800222'\n",
    "\n",
    "buroc_12_22['RFC_4'] = buroc_12_22['RFC'].str.slice(0,4)\n",
    "print('--------------------------------------------------------------------------------------------------------')\n",
    "print('Non-alpha first 4 characters RFCs from buroc_12_22:\\n', buroc_12_22.loc[~buroc_12_22['RFC_4'].str.isalpha()][['NOMBRE','RFC', 'CURP']].sort_values(by='NOMBRE'))\n",
    "buroc_12_22.loc[~buroc_12_22['RFC_4'].str.isalpha(), 'RFC'] = buroc_12_22.loc[~buroc_12_22['RFC_4'].str.isalpha(), 'CURP'].str[0:10]\n",
    "#--------------------------------------------------------------------------------------------------------------------\n",
    "# Create column with 10 first RFC digits which is what we need for name and date of birth\n",
    "#--------------------------------------------------------------------------------------------------------\n",
    "magist_12_16['RFC_10'] = magist_12_16['RFC'].str[0:10]\n",
    "magist_17_22['RFC_10'] = magist_17_22['RFC'].str[0:10]\n",
    "buroc_12_22['RFC_10'] = buroc_12_22['RFC'].str[0:10]\n"
   ]
  },
  {
   "cell_type": "markdown",
   "metadata": {},
   "source": [
    "## Validating and Fixing Names (in each table separately)\n",
    "\n",
    "Here we check for typos in people's names and match those pseudo different names - this is important for later to verify RFCs with person's names"
   ]
  },
  {
   "cell_type": "code",
   "execution_count": null,
   "metadata": {},
   "outputs": [],
   "source": [
    "for df in dataframes:\n",
    "    df['NOMBRE_ready'] = df['NOMBRE'].astype(str).str.strip()\n",
    "\n",
    "magist_17_22['APELLIDOMATERNO'] = magist_17_22['APELLIDOMATERNO'].astype(str).str.strip()\n",
    "magist_17_22['APELLIDOPATERNO'] = magist_17_22['APELLIDOPATERNO'].astype(str).str.strip()\n",
    "magist_17_22['NOMBRE_ready'] = magist_17_22['NOMBRE_ready'] + ' ' + magist_17_22['APELLIDOPATERNO'] + ' ' + magist_17_22['APELLIDOMATERNO']\n",
    "\n",
    "def find_correct_name(name, candidates):\n",
    "    global count_converted\n",
    "    candidates_set_except_self  = set(candidates) - {name}\n",
    "    matches = process.extract(name, candidates_set_except_self, limit=5)\n",
    "    pattern = r'^[a-zA-Z\\s]+$'\n",
    "    matches_only_letters = [tuple for tuple in matches if re.match(pattern, tuple[0])] #gets only matches with letters\n",
    "    if len(matches_only_letters) == 0: #in case of no matches\n",
    "        return name\n",
    "        \n",
    "    best_match_tuple = ''\n",
    "    if (name not in already_matched):\n",
    "\n",
    "        for match_tuple in matches_only_letters:\n",
    "            if(match_tuple[1] > 95):\n",
    "                best_match_tuple = match_tuple\n",
    "                count_converted +=1\n",
    "                print(f\"{count_converted} - Converting: {name} --> {best_match_tuple[0]}\")\n",
    "                already_matched.add(best_match_tuple[0])\n",
    "                return best_match_tuple[0]\n",
    "            if(match_tuple[1] <= 95 and name_rfc_map[name] == name_rfc_map[match_tuple[0]]):\n",
    "                best_match_tuple = match_tuple\n",
    "                count_converted +=1\n",
    "                print(f\"{count_converted} - Converting: {name} --> {best_match_tuple[0]}\")\n",
    "                already_matched.add(best_match_tuple[0])\n",
    "                return best_match_tuple[0]\n",
    "\n",
    "        return name\n",
    "\n",
    "    else:\n",
    "        return name\n",
    "    \n",
    "\n",
    "for df in dataframes[0:3]:\n",
    "\n",
    "    grouped = df.groupby(['NOMBRE_ready', 'RFC_10'])\n",
    "    name_rfc_map = {}\n",
    "    for name_rfc, group in grouped:\n",
    "        name, rfc = name_rfc\n",
    "        name_rfc_map[name] = rfc #creating Name, RFC map for matches' values < 95\n",
    "    # print(name_rfc_map)\n",
    "\n",
    "    names_unique = df['NOMBRE_ready'].sort_values().unique()\n",
    "    print(len(names_unique))\n",
    "    already_matched = set([])\n",
    "    count_converted = 0\n",
    "    name_mapping = {name: find_correct_name(name, names_unique) for name in names_unique}\n",
    "    # print(name_mapping)\n",
    "    print('____________________________________________')\n",
    "    df['NOMBRE_correct'] = df['NOMBRE_ready'].map(name_mapping)\n",
    "\n",
    "\n",
    "    grouped = df.groupby(['NOMBRE_correct', 'RFC_10'])\n",
    "    name_rfc_map = {}\n",
    "    for name_rfc, group in grouped:\n",
    "        name, rfc = name_rfc\n",
    "        name_rfc_map[name] = rfc\n",
    "\n",
    "    names_unique = df['NOMBRE_correct'].sort_values().unique()\n",
    "    already_matched = set([])\n",
    "    count_converted = 0\n",
    "    name_mapping = {name: find_correct_name(name, names_unique) for name in names_unique}\n",
    "    print('____________________________________________')\n",
    "    df['NOMBRE_correct_final'] = df['NOMBRE_correct'].map(name_mapping)\n",
    "\n",
    "\n",
    "magist_12_16.to_csv('raw csv files/magist_12_16_names_converted.csv', index=None, header=True)\n",
    "magist_17_22.to_csv('raw csv files/magist_17_22_names_converted.csv', index=None, header=True)\n",
    "buroc_12_22.to_csv('raw csv files/buroc_12_22_names_converted.csv', index=None, header=True)\n"
   ]
  },
  {
   "cell_type": "markdown",
   "metadata": {},
   "source": [
    "## Validating and Fixing RFCs - Part 2\n",
    "\n",
    "4. No different name can have the same RFC for each table separately\n",
    "5. The same name must have equal RFC for each table separately"
   ]
  },
  {
   "cell_type": "code",
   "execution_count": 10,
   "metadata": {},
   "outputs": [
    {
     "name": "stdout",
     "output_type": "stream",
     "text": [
      "Empty DataFrame\n",
      "Columns: [NOMBRE_correct_final, RFC_10, 0]\n",
      "Index: []\n",
      "magist_12_16: 0 rows of 78248\n",
      "                 NOMBRE_correct_final      RFC_10   0\n",
      "2313    NELIDA ELIZABETH CARO DELGADO  CADN920818  28\n",
      "2411   MARIA GUADALUPE RENTERIA GOMEZ  CADN920818  27\n",
      "4050    CARLOS EDUARDO GOMEZ GONZALEZ  CUVA720908   2\n",
      "173             ALVARO CRUZ VELDUCELA  CUVA720908  72\n",
      "2101        ROCIO AMAYRANI LOPEZ DIAZ  LODR931221  29\n",
      "2088       ROCIO ELIZABETH LOPEZ DIAZ  LODR931221  29\n",
      "621              LORENA PADILLA LEMUS  PALL840912  31\n",
      "3588     CARLOS ALEXIS IBAL RODRIGUEZ  PALL840912   5\n",
      "1655     SEIDA NALLELY VELASCO MENDEZ  VEMS811004  29\n",
      "4005  YANIRA YARISSA GUARDADO AGUILAR  VEMS811004   3\n",
      "magist_17_22: 10 rows of 113814\n",
      "buroc_12_22: 94 rows of 16774\n",
      "Potential RFC typos for BENITEZ RODRIGUEZ SILVIA: ['BERS640303' 'BERS640331']\n",
      "Picking most frequent: BERS640331\n",
      "Potential RFC typos for CAMARENA CIBRIAN SANDRA EMILIA: ['CACS730715' 'CACS740902']\n",
      "Picking most frequent: CACS740902\n",
      "Potential RFC typos for CARDENAS FONSECA J ASCENCION: ['CAFA621208' 'CAFJ621208']\n",
      "Picking most frequent: CAFA621208\n",
      "Potential RFC typos for GARCIA RIVERA FRANCISCO: ['GARF561028' 'GARF551028']\n",
      "Picking most frequent: GARF551028\n",
      "Potential RFC typos for GONZALEZ ACOSTA JAVIER: ['GOAJ740616' 'GOAJ750616']\n",
      "Picking most frequent: GOAJ750616\n",
      "Potential RFC typos for GONZALEZ BANUELOS MARTHA IMELD: ['GOBM730715' 'GOBM650513']\n",
      "Picking most frequent: GOBM650513\n",
      "Potential RFC typos for HUIZAR FRANCO JUANA: ['HUFJ571125' 'HUFJ571124']\n",
      "Picking most frequent: HUFJ571124\n",
      "Potential RFC typos for JIMENEZ ORTIZ MA  DEL RAYO: ['JIOR511031' 'JIOM511031']\n",
      "Picking most frequent: JIOM511031\n",
      "Potential RFC typos for LLAMAS SALAS ARTURO: ['LASA651214' 'LASA641214']\n",
      "Picking most frequent: LASA641214\n",
      "Potential RFC typos for LUNA FLORES ENRIQUE ALEJANDRO: ['LUFE781208' 'LUFE771208']\n",
      "Picking most frequent: LUFE771208\n",
      "Potential RFC typos for MARIN SEGURA JOSE: ['MASJ551114' 'MASJ541114']\n",
      "Picking most frequent: MASJ541114\n",
      "Potential RFC typos for PACHECO LOPEZ PERLA CONCEPCION: ['PALP670928' 'PALP870928']\n",
      "Picking most frequent: PALP670928\n",
      "Potential RFC typos for PEREZ CARRILLO IRMA: ['PECI551210' 'PECI550110']\n",
      "Picking most frequent: PECI551210\n",
      "Potential RFC typos for PEREZ MENDIOLA MA DOLORES: ['PEMD700105' 'PEMM700105']\n",
      "Picking most frequent: PEMD700105\n",
      "Potential RFC typos for RODRIGUEZ GAMINO MA  ALICIA: ['ROGA560607' 'ROGM560607']\n",
      "Picking most frequent: ROGA560607\n",
      "Potential RFC typos for ROSAS GALLEGOS EDGAR JOVANY: ['ROGE780215' 'ROGE930404']\n",
      "Picking most frequent: ROGE780215\n",
      "Potential RFC typos for SILLAS GARAY TERESA DE JESUS: ['SIGT581123' 'SIGT581125']\n",
      "Picking most frequent: SIGT581125\n",
      "Potential RFC typos for VILLAFUERTE HERNANDEZ NICHMA M: ['VIHN740421' 'VIHN940515']\n",
      "Picking most frequent: VIHN940515\n",
      "------------------------------\n",
      "Potential RFC typos for LILIAN EDITH VILLEGAS LOPEZ: ['VILL980514' 'VILL980414']\n",
      "Converting to VILL980514\n",
      "------------------------------\n",
      "Potential RFC typos for VILLEGAS MARTINEZ MARIO: ['VIMM700428' 'VIMM640424']\n"
     ]
    },
    {
     "data": {
      "text/html": [
       "<div>\n",
       "<style scoped>\n",
       "    .dataframe tbody tr th:only-of-type {\n",
       "        vertical-align: middle;\n",
       "    }\n",
       "\n",
       "    .dataframe tbody tr th {\n",
       "        vertical-align: top;\n",
       "    }\n",
       "\n",
       "    .dataframe thead th {\n",
       "        text-align: right;\n",
       "    }\n",
       "</style>\n",
       "<table border=\"1\" class=\"dataframe\">\n",
       "  <thead>\n",
       "    <tr style=\"text-align: right;\">\n",
       "      <th></th>\n",
       "    </tr>\n",
       "  </thead>\n",
       "  <tbody>\n",
       "  </tbody>\n",
       "</table>\n",
       "</div>"
      ],
      "text/plain": [
       "Empty DataFrame\n",
       "Columns: []\n",
       "Index: []"
      ]
     },
     "execution_count": 10,
     "metadata": {},
     "output_type": "execute_result"
    }
   ],
   "source": [
    "#Load CSVs into DataFrames\n",
    "magist_12_16_copy = pd.read_csv('C:/dev/Python/Nayarit/csv_files/magist_12_16_names_converted.csv', dtype=str)\n",
    "magist_17_22_copy = pd.read_csv('C:/dev/Python/Nayarit/csv_files/magist_17_22_names_converted.csv', dtype=str)\n",
    "buroc_12_22_copy = pd.read_csv('C:/dev/Python/Nayarit/csv_files/buroc_12_22_names_converted.csv', dtype=str)\n",
    "\n",
    "# magist_12_16_copy = magist_12_16.copy()\n",
    "# magist_17_22_copy = magist_17_22.copy()\n",
    "# buroc_12_22_copy = buroc_12_22.copy()\n",
    "\n",
    "# # 4. Check if we have any different names with same RFCs\n",
    "magist_17_22_copy.loc[magist_17_22_copy['RFC_10'] == 'BARG880814','NOMBRE_correct_final'] = 'GESSER RAMON BANUELOS RODRIGUEZ'\n",
    "magist_17_22_copy.loc[magist_17_22_copy['RFC_10'] == 'JICC840816','NOMBRE_correct_final'] = 'CANDELARIA JIMENEZ CASTANEDA'\n",
    "\n",
    "df = magist_12_16_copy[['NOMBRE_correct_final', 'RFC_10']].value_counts().reset_index().sort_values(by='RFC_10')\n",
    "df_only_dup = df[df.duplicated(subset='RFC_10', keep=False)]\n",
    "print(df_only_dup)\n",
    "print(f'magist_12_16: {df_only_dup.shape[0]} rows of {magist_12_16_copy.shape[0]}')\n",
    "\n",
    "df = magist_17_22_copy[['NOMBRE_correct_final', 'RFC_10']].value_counts().reset_index().sort_values(by='RFC_10')\n",
    "df_only_dup = df[df.duplicated(subset='RFC_10', keep=False)]\n",
    "print(df_only_dup)\n",
    "print(f'magist_17_22: {df_only_dup.shape[0]} rows of {magist_17_22_copy.shape[0]}')\n",
    "\n",
    "df = buroc_12_22_copy[['NOMBRE_correct_final', 'RFC_10']].value_counts().reset_index().sort_values(by='RFC_10')\n",
    "df_only_dup = df[df.duplicated(subset='RFC_10', keep=False)]\n",
    "print(f'buroc_12_22: {df_only_dup.shape[0]} rows of {buroc_12_22_copy.shape[0]}')\n",
    "\n",
    "# # 5. Check if all RFCs associated with a person are the same. If not, we use the most frequent RFC for that person\n",
    "\n",
    "def check_and_fix_person_RFCs_magist_12_16(person):\n",
    "    name = person['NOMBRE_correct_final'].iloc[0]\n",
    "    unique_RFCs = person['RFC_10'].unique()\n",
    "    counts = person[['RFC_10']].value_counts()\n",
    "    if len(unique_RFCs) > 1:\n",
    "        print(f\"Potential RFC typos for {name}:\", unique_RFCs)\n",
    "        most_freq_RFC = counts.index[0][0]\n",
    "        magist_12_16_copy.loc[magist_12_16_copy['NOMBRE_correct_final'] == name, 'RFC_10'] = most_freq_RFC\n",
    "        print(f'Picking most frequent: {most_freq_RFC}')\n",
    "\n",
    "    return \n",
    "\n",
    "def check_and_fix_person_RFCs_magist_17_22(person):\n",
    "    name = person['NOMBRE_correct_final'].iloc[0]\n",
    "    unique_RFCs = person['RFC_10'].unique()\n",
    "    counts = person[['RFC_10']].value_counts()\n",
    "    if len(unique_RFCs) > 1:\n",
    "        print(f\"Potential RFC typos for {name}:\", unique_RFCs)\n",
    "        most_freq_RFC = counts.index[0][0]\n",
    "        print(f'Converting to {most_freq_RFC}')\n",
    "        magist_17_22_copy.loc[magist_17_22_copy['NOMBRE_correct_final'] == name, 'RFC_10'] = most_freq_RFC\n",
    "\n",
    "    return \n",
    "\n",
    "def check_and_fix_person_RFCs_buroc_12_22(person):\n",
    "    name = person['NOMBRE_correct_final'].iloc[0]\n",
    "    unique_RFCs = person['RFC_10'].unique()\n",
    "    counts = person[['RFC_10']].value_counts()\n",
    "    if len(unique_RFCs) > 1:\n",
    "        print(f\"Potential RFC typos for {name}:\", unique_RFCs)\n",
    "        most_freq_RFC = counts.index[0][0]\n",
    "        buroc_12_22_copy.loc[buroc_12_22_copy['NOMBRE_correct_final'] == name, 'RFC_10'] = most_freq_RFC\n",
    "\n",
    "    return \n",
    "\n",
    "\n",
    "magist_12_16_copy.groupby('NOMBRE_correct_final', group_keys=True).apply(check_and_fix_person_RFCs_magist_12_16)\n",
    "print('------------------------------')\n",
    "magist_17_22_copy.groupby('NOMBRE_correct_final', group_keys=True).apply(check_and_fix_person_RFCs_magist_17_22)\n",
    "print('------------------------------')\n",
    "buroc_12_22_copy.groupby('NOMBRE_correct_final', group_keys=True).apply(check_and_fix_person_RFCs_buroc_12_22)"
   ]
  },
  {
   "cell_type": "markdown",
   "metadata": {},
   "source": [
    "# Building the AGE DISTRIBUTION and POPULATION PYRAMID"
   ]
  },
  {
   "cell_type": "markdown",
   "metadata": {},
   "source": [
    "## Concatenating the three tables"
   ]
  },
  {
   "cell_type": "code",
   "execution_count": 11,
   "metadata": {},
   "outputs": [
    {
     "name": "stdout",
     "output_type": "stream",
     "text": [
      "<class 'pandas.core.frame.DataFrame'>\n",
      "MultiIndex: 208836 entries, ('magist_12_16', 0) to ('buroc_12_22', 16773)\n",
      "Data columns (total 4 columns):\n",
      " #   Column                Non-Null Count   Dtype \n",
      "---  ------                --------------   ----- \n",
      " 0   NOMBRE_correct_final  208836 non-null  object\n",
      " 1   RFC                   208836 non-null  object\n",
      " 2   RFC_10                208836 non-null  object\n",
      " 3   CURP                  208835 non-null  object\n",
      "dtypes: object(4)\n",
      "memory usage: 12.3+ MB\n"
     ]
    }
   ],
   "source": [
    "magist_buroc_concat = pd.concat([magist_12_16_copy[['NOMBRE_correct_final', 'RFC', 'RFC_10', 'CURP']], magist_17_22_copy[['NOMBRE_correct_final', 'RFC', 'RFC_10', 'CURP']], buroc_12_22_copy[['NOMBRE_correct_final', 'RFC', 'RFC_10', 'CURP']]], keys=['magist_12_16', 'magist_17_22', 'buroc_12_22'])\n",
    "\n",
    "magist_buroc_concat.info()"
   ]
  },
  {
   "cell_type": "markdown",
   "metadata": {},
   "source": [
    "## Validating and Fixing Names (in concatenated table of only names and RFC columns)\n",
    "\n",
    "Here we check for typos in people's names match those pseudo different names across the single concatenated table - this is important for later to verify RFCs with person's names"
   ]
  },
  {
   "cell_type": "code",
   "execution_count": null,
   "metadata": {},
   "outputs": [],
   "source": []
  },
  {
   "cell_type": "markdown",
   "metadata": {},
   "source": [
    "## Validating and Fixing RFCs (in concatenated table)\n",
    "\n",
    "- No different name can have the same RFC\n",
    "- The same name must have equal RFC"
   ]
  },
  {
   "cell_type": "code",
   "execution_count": null,
   "metadata": {},
   "outputs": [],
   "source": []
  },
  {
   "cell_type": "markdown",
   "metadata": {},
   "source": [
    "## Keeping one row per unique person and merging on RFC"
   ]
  },
  {
   "cell_type": "code",
   "execution_count": 12,
   "metadata": {},
   "outputs": [],
   "source": [
    "magist_buroc_concat_no_duplicates = magist_buroc_concat.drop_duplicates('RFC_10')"
   ]
  },
  {
   "cell_type": "markdown",
   "metadata": {},
   "source": [
    "## Converting RFC to Date of Birth"
   ]
  },
  {
   "cell_type": "code",
   "execution_count": 15,
   "metadata": {},
   "outputs": [
    {
     "name": "stderr",
     "output_type": "stream",
     "text": [
      "C:\\Users\\rodri\\AppData\\Local\\Temp\\ipykernel_13508\\3882161968.py:4: SettingWithCopyWarning: \n",
      "A value is trying to be set on a copy of a slice from a DataFrame.\n",
      "Try using .loc[row_indexer,col_indexer] = value instead\n",
      "\n",
      "See the caveats in the documentation: https://pandas.pydata.org/pandas-docs/stable/user_guide/indexing.html#returning-a-view-versus-a-copy\n",
      "  magist_buroc_concat_no_duplicates['RFC_6'] = magist_buroc_concat_no_duplicates['RFC_10'].str[4:10]\n"
     ]
    },
    {
     "name": "stdout",
     "output_type": "stream",
     "text": [
      "magist_12_16  28222     000000\n",
      "magist_17_22  28230     770565\n",
      "              36220     93110D\n",
      "              76397     00222M\n",
      "              104533    810134\n",
      "              111138    90818T\n",
      "buroc_12_22   1665      786052\n",
      "              5951      731313\n",
      "              7471      111111\n",
      "Name: RFC_6, dtype: object\n"
     ]
    }
   ],
   "source": [
    "#--------------------------------------------------------------------------------------------------------\n",
    "# Create RFC_6 column - i.e. only the RFC digits corresponding to the date of birth \n",
    "#--------------------------------------------------------------------------------------------------------\n",
    "magist_buroc_concat_no_duplicates['RFC_6'] = magist_buroc_concat_no_duplicates['RFC_10'].str[4:10]\n",
    "magist_buroc_no_invalid_RFC_6s = magist_buroc_concat_no_duplicates.copy()\n",
    "#--------------------------------------------------------------------------------------------------------\n",
    "# Create Boolean series to filter for invalid dates\n",
    "#--------------------------------------------------------------------------------------------------------\n",
    "day = pd.to_numeric(magist_buroc_concat_no_duplicates['RFC_6'].str[4:6], errors='coerce')\n",
    "month = pd.to_numeric(magist_buroc_concat_no_duplicates['RFC_6'].str[2:4], errors='coerce')\n",
    "\n",
    "condition_numeric = magist_buroc_concat_no_duplicates['RFC_6'].str.isnumeric()\n",
    "condition_month = month > 12\n",
    "condition_day = day > 31\n",
    "condition_000000 = magist_buroc_no_invalid_RFC_6s['RFC_6'] == '000000'\n",
    "condition_111111 = magist_buroc_no_invalid_RFC_6s['RFC_6'] == '111111'\n",
    "#--------------------------------------------------------------------------------------------------------\n",
    "# Find the invalid dates\n",
    "#--------------------------------------------------------------------------------------------------------\n",
    "potential_invalid_RFC_6s = magist_buroc_concat_no_duplicates.loc[~condition_numeric | condition_day | condition_month | condition_000000 | condition_111111, 'RFC_6']\n",
    "potential_invalid_days = magist_buroc_concat_no_duplicates.loc[~condition_numeric | condition_day, 'RFC_6']\n",
    "potential_invalid_months = magist_buroc_concat_no_duplicates.loc[~condition_numeric | condition_month, 'RFC_6']\n",
    "print(magist_buroc_no_invalid_RFC_6s.loc[magist_buroc_concat_no_duplicates['RFC_6'].isin(potential_invalid_RFC_6s), 'RFC_6'])\n",
    "\n",
    "#--------------------------------------------------------------------------------------------------------\n",
    "# Fix the invalid dates\n",
    "#--------------------------------------------------------------------------------------------------------\n",
    "magist_buroc_no_invalid_RFC_6s.loc[magist_buroc_concat_no_duplicates['RFC_6'].isin(potential_invalid_days), 'RFC_6'] = magist_buroc_no_invalid_RFC_6s.loc[magist_buroc_concat_no_duplicates['RFC_6'].isin(potential_invalid_days), 'RFC_6'].str[:-2] + '01'\n",
    "\n",
    "magist_buroc_no_invalid_RFC_6s.loc[magist_buroc_concat_no_duplicates['RFC_6'].isin(potential_invalid_months), 'RFC_6'] = magist_buroc_no_invalid_RFC_6s.loc[magist_buroc_concat_no_duplicates['RFC_6'].isin(potential_invalid_months), 'RFC_6'].str[:2] + '01' + magist_buroc_no_invalid_RFC_6s.loc[magist_buroc_concat_no_duplicates['RFC_6'].isin(potential_invalid_months), 'RFC_6'].str[4:6]\n",
    "\n",
    "magist_buroc_no_invalid_RFC_6s.drop((magist_buroc_concat_no_duplicates[condition_000000 | condition_111111].index), inplace=True )\n",
    "\n",
    "# print(magist_buroc_no_invalid_RFC_6s.loc[magist_buroc_concat_no_duplicates['RFC_6'].isin(potential_invalid_RFC_6s), 'RFC_6'])\n",
    "#--------------------------------------------------------------------------------------------------------\n",
    "# Convert RFC_6 format to DateTime\n",
    "#--------------------------------------------------------------------------------------------------------\n",
    "def convert_RFC_6_to_date(date_str):\n",
    "    year = int(date_str[0:2])\n",
    "    if year < 19:\n",
    "        try:\n",
    "            return pd.to_datetime(date_str, format='%y%m%d')\n",
    "        except ValueError:\n",
    "            return None  # Handle invalid date format gracefully\n",
    "\n",
    "    else:\n",
    "        try:\n",
    "            return pd.to_datetime(date_str, format='%y%m%d') \n",
    "        except ValueError:\n",
    "            return None  # Handle invalid date format gracefully\n",
    "\n",
    "magist_buroc_no_invalid_RFC_6s['DATE_OF_BIRTH'] = magist_buroc_no_invalid_RFC_6s['RFC_6'].apply(convert_RFC_6_to_date)\n",
    "\n",
    "wrong_date_years = magist_buroc_no_invalid_RFC_6s.loc[magist_buroc_no_invalid_RFC_6s['DATE_OF_BIRTH'].dt.year >= 2019, 'DATE_OF_BIRTH']\n",
    "right_date_years = wrong_date_years + pd.DateOffset(years=-100)\n",
    "magist_buroc_no_invalid_RFC_6s.loc[magist_buroc_no_invalid_RFC_6s['DATE_OF_BIRTH'].dt.year >= 2019, 'DATE_OF_BIRTH'] = right_date_years\n",
    "\n",
    "# magist_buroc_no_invalid_RFC_6s['DATE_OF_BIRTH'].sort_values()"
   ]
  },
  {
   "cell_type": "markdown",
   "metadata": {},
   "source": [
    "## Creating AGE column based on Date of Birth"
   ]
  },
  {
   "cell_type": "code",
   "execution_count": 16,
   "metadata": {},
   "outputs": [],
   "source": [
    "#--------------------------------------------------------------------------------------------------------\n",
    "# Calculating Age based on date of birth\n",
    "#--------------------------------------------------------------------------------------------------------\n",
    "current_date = datetime.datetime.now()\n",
    "magist_buroc_no_invalid_RFC_6s['AGE'] = (current_date - magist_buroc_no_invalid_RFC_6s['DATE_OF_BIRTH']).astype('<m8[Y]')\n",
    "# print(magist_buroc_no_invalid_RFC_6s['AGE'].value_counts())"
   ]
  },
  {
   "cell_type": "markdown",
   "metadata": {},
   "source": [
    "## Create Plot"
   ]
  },
  {
   "cell_type": "code",
   "execution_count": 17,
   "metadata": {},
   "outputs": [
    {
     "data": {
      "image/png": "[encoded data removed]",
      "text/plain": [
       "<Figure size 1400x800 with 1 Axes>"
      ]
     },
     "metadata": {},
     "output_type": "display_data"
    }
   ],
   "source": [
    "#--------------------------------------------------------------------------------------------------------\n",
    "# Plotting\n",
    "#--------------------------------------------------------------------------------------------------------\n",
    "plt.figure(figsize=(14, 8))\n",
    "plt.hist(magist_buroc_no_invalid_RFC_6s['AGE'], bins=86, edgecolor='black', density=True)\n",
    "plt.xticks(range(0, int(max(magist_buroc_no_invalid_RFC_6s['AGE'])) + 1, 5))\n",
    "plt.xlabel('AGE')\n",
    "plt.ylabel('Density')\n",
    "\n",
    "\n",
    "plt.show()"
   ]
  },
  {
   "cell_type": "markdown",
   "metadata": {},
   "source": [
    "## Create GENDER column for Population Pyramid"
   ]
  },
  {
   "cell_type": "code",
   "execution_count": 18,
   "metadata": {},
   "outputs": [],
   "source": [
    "magist_buroc_no_invalid_RFC_6s['GENDER'] = magist_buroc_no_invalid_RFC_6s['CURP'].str[10]"
   ]
  },
  {
   "cell_type": "markdown",
   "metadata": {},
   "source": [
    "## Dealing with rows where GENDER is invalid "
   ]
  },
  {
   "cell_type": "code",
   "execution_count": 19,
   "metadata": {},
   "outputs": [
    {
     "name": "stdout",
     "output_type": "stream",
     "text": [
      "Invalid GENDER: 523 rows of 13051: 4.0073557581794494 %\n",
      "We drop these rows since it is < 5%\n"
     ]
    }
   ],
   "source": [
    "#--------------------------------------------------------------------------------------------------------\n",
    "#Checking for rows where GENDER is different from H or M \n",
    "#--------------------------------------------------------------------------------------------------------\n",
    "df_invalid_gender = magist_buroc_no_invalid_RFC_6s[(magist_buroc_no_invalid_RFC_6s['GENDER'] != 'H') & (magist_buroc_no_invalid_RFC_6s['GENDER'] != 'M')].sort_values(by='NOMBRE_correct_final')\n",
    "print(f'Invalid GENDER: {df_invalid_gender.shape[0]} rows of {magist_buroc_no_invalid_RFC_6s.shape[0]}: {df_invalid_gender.shape[0]/magist_buroc_no_invalid_RFC_6s.shape[0] * 100} %')\n",
    "#--------------------------------------------------------------------------------------------------------\n",
    "#Dropping invalid rows\n",
    "#--------------------------------------------------------------------------------------------------------\n",
    "magist_buroc_concat_no_duplicates_no_invalid_gender = magist_buroc_no_invalid_RFC_6s[~magist_buroc_no_invalid_RFC_6s['RFC'].isin(df_invalid_gender['RFC'])]\n",
    "print('We drop these rows since it is < 5%')\n",
    "# print(magist_buroc_concat_no_duplicates_no_invalid[(magist_buroc_concat_no_duplicates_no_invalid['GENDER'] != 'H') & (magist_buroc_concat_no_duplicates_no_invalid['GENDER'] != 'M')].sort_values(by='NOMBRE_correct_final'))"
   ]
  },
  {
   "cell_type": "markdown",
   "metadata": {},
   "source": [
    "## Create Plot"
   ]
  },
  {
   "cell_type": "code",
   "execution_count": 20,
   "metadata": {},
   "outputs": [
    {
     "name": "stderr",
     "output_type": "stream",
     "text": [
      "C:\\Users\\rodri\\AppData\\Local\\Temp\\ipykernel_13508\\2102295370.py:25: SettingWithCopyWarning: \n",
      "A value is trying to be set on a copy of a slice from a DataFrame.\n",
      "Try using .loc[row_indexer,col_indexer] = value instead\n",
      "\n",
      "See the caveats in the documentation: https://pandas.pydata.org/pandas-docs/stable/user_guide/indexing.html#returning-a-view-versus-a-copy\n",
      "  magist_buroc_concat_no_duplicates_no_invalid_gender['AGE_CATEGORY'] = np.select(conditions, age_categories)\n",
      "C:\\Users\\rodri\\AppData\\Local\\Temp\\ipykernel_13508\\2102295370.py:41: FutureWarning: The frame.append method is deprecated and will be removed from pandas in a future version. Use pandas.concat instead.\n",
      "  magist_buroc_concat_pyramid_pop = magist_buroc_concat_pyramid_pop.append(new_row, ignore_index=True)\n"
     ]
    },
    {
     "data": {
      "image/png": "[encoded data removed]",
      "text/plain": [
       "<Figure size 1400x800 with 1 Axes>"
      ]
     },
     "metadata": {},
     "output_type": "display_data"
    }
   ],
   "source": [
    "#--------------------------------------------------------------------------------------------------------\n",
    "#Creating the age categories \n",
    "#--------------------------------------------------------------------------------------------------------\n",
    "age_categories = []\n",
    "age_categories.append('< 19.9')\n",
    "for start in range(20, 100, 5):\n",
    "    end = start + 4.9\n",
    "    if start >= 90:\n",
    "        age_categories.append('90+')\n",
    "        break\n",
    "    age_categories.append(f'{start:.0f}-{end:.1f}')\n",
    "    \n",
    "\n",
    "conditions = []\n",
    "conditions.append(magist_buroc_concat_no_duplicates_no_invalid_gender['AGE'] <= 19.9)\n",
    "for start in range(20, 90, 5):\n",
    "    end = start + 4.9\n",
    "    condition = (\n",
    "        (magist_buroc_concat_no_duplicates_no_invalid_gender['AGE'] >= start) &\n",
    "        (magist_buroc_concat_no_duplicates_no_invalid_gender['AGE'] <= end)\n",
    "    )\n",
    "    conditions.append(condition)\n",
    "\n",
    "conditions.append(magist_buroc_concat_no_duplicates_no_invalid_gender['AGE'] >= 90)\n",
    "magist_buroc_concat_no_duplicates_no_invalid_gender['AGE_CATEGORY'] = np.select(conditions, age_categories)\n",
    "magist_buroc_concat_no_duplicates_no_invalid_gender[['AGE', 'AGE_CATEGORY']]\n",
    "#--------------------------------------------------------------------------------------------------------\n",
    "#Editing index and rows for plotting graph\n",
    "#--------------------------------------------------------------------------------------------------------\n",
    "magist_buroc_concat_pyramid_pop = magist_buroc_concat_no_duplicates_no_invalid_gender.value_counts(subset=['AGE_CATEGORY', 'GENDER']).sort_index().reset_index(name='POPULATION')\n",
    "desired_row_index = 30\n",
    "desired_row = magist_buroc_concat_pyramid_pop.loc[desired_row_index]\n",
    "# Drop the desired row from its original position\n",
    "magist_buroc_concat_pyramid_pop = magist_buroc_concat_pyramid_pop.drop(desired_row_index)\n",
    "# Reinsert the desired row at the beginning\n",
    "magist_buroc_concat_pyramid_pop = pd.concat([desired_row.to_frame().T, magist_buroc_concat_pyramid_pop], ignore_index=True)\n",
    "new_row = {'AGE_CATEGORY': '< 19.9', 'GENDER': 'H', 'POPULATION': 0}\n",
    "# Index where you want to add the row\n",
    "index_to_add = 0\n",
    "# Insert the new row at the specified index using loc\n",
    "magist_buroc_concat_pyramid_pop = magist_buroc_concat_pyramid_pop.append(new_row, ignore_index=True)\n",
    "magist_buroc_concat_pyramid_pop = pd.concat([magist_buroc_concat_pyramid_pop.iloc[:index_to_add], pd.DataFrame([new_row]), magist_buroc_concat_pyramid_pop.iloc[index_to_add:]]).reset_index(drop=True).drop(index=32)\n",
    "#--------------------------------------------------------------------------------------------------------\n",
    "#Creating two separate DataFrames (one for male, one for female)\n",
    "#--------------------------------------------------------------------------------------------------------\n",
    "magist_buroc_concat_pyramid_pop_male = magist_buroc_concat_pyramid_pop[magist_buroc_concat_pyramid_pop['GENDER'] == 'H']\n",
    "magist_buroc_concat_pyramid_pop_female = magist_buroc_concat_pyramid_pop[magist_buroc_concat_pyramid_pop['GENDER'] == 'M']\n",
    "\n",
    "magist_buroc_concat_pyramid_pop_formatted = magist_buroc_concat_pyramid_pop_male.merge(magist_buroc_concat_pyramid_pop_female, on='AGE_CATEGORY', how='inner', suffixes=['_male', '_female']).drop(columns=['GENDER_male', 'GENDER_female'])\n",
    "magist_buroc_concat_pyramid_pop_formatted['POPULATION_male'] = (-1)*magist_buroc_concat_pyramid_pop_formatted['POPULATION_male']\n",
    "#--------------------------------------------------------------------------------------------------------\n",
    "#Plotting\n",
    "#--------------------------------------------------------------------------------------------------------\n",
    "sns.set(rc={\"figure.figsize\": (14, 8)})\n",
    "sns.color_palette('bright')\n",
    "bar_plot = sns.barplot(x='POPULATION_male', y='AGE_CATEGORY', data=magist_buroc_concat_pyramid_pop_formatted.iloc[::-1], palette='Blues', saturation=1)\n",
    "bar_plot = sns.barplot(x='POPULATION_female', y='AGE_CATEGORY', data=magist_buroc_concat_pyramid_pop_formatted[::-1], palette='Reds', saturation=1)\n",
    "bar_plot.set(xlabel=\"Population\", ylabel=\"Age\", title = \"Population Pyramid\")\n",
    "bar_plot.set_xticks([-1000, -500, 0, 500, 1000])\n",
    "#--------------------------------------------------------------------------------------------------------\n",
    "plt.show()"
   ]
  },
  {
   "cell_type": "markdown",
   "metadata": {},
   "source": [
    "# Building the SALARIES PLOT"
   ]
  },
  {
   "cell_type": "markdown",
   "metadata": {},
   "source": [
    "## Summing relevant payment columns to create TOTAL_SALARY column"
   ]
  },
  {
   "cell_type": "code",
   "execution_count": 21,
   "metadata": {},
   "outputs": [
    {
     "name": "stderr",
     "output_type": "stream",
     "text": [
      "C:\\Users\\rodri\\AppData\\Local\\Temp\\ipykernel_13508\\4092160520.py:2: DeprecationWarning: In a future version, `df.iloc[:, i] = newvals` will attempt to set the values inplace instead of always setting a new array. To retain the old behavior, use either `df[df.columns[i]] = newvals` or, if columns are non-unique, `df.isetitem(i, newvals)`\n",
      "  magist_12_16_copy.iloc[:, i] = magist_12_16_copy.iloc[:, i].astype('float')\n"
     ]
    },
    {
     "name": "stdout",
     "output_type": "stream",
     "text": [
      "<class 'pandas.core.frame.DataFrame'>\n",
      "RangeIndex: 78248 entries, 0 to 78247\n",
      "Columns: 107 entries, NOMINA to NOMBRE_correct_final\n",
      "dtypes: float64(84), object(23)\n",
      "memory usage: 63.9+ MB\n",
      "None\n"
     ]
    },
    {
     "name": "stderr",
     "output_type": "stream",
     "text": [
      "C:\\Users\\rodri\\AppData\\Local\\Temp\\ipykernel_13508\\4092160520.py:6: DeprecationWarning: In a future version, `df.iloc[:, i] = newvals` will attempt to set the values inplace instead of always setting a new array. To retain the old behavior, use either `df[df.columns[i]] = newvals` or, if columns are non-unique, `df.isetitem(i, newvals)`\n",
      "  magist_17_22_copy.iloc[:, i] = magist_17_22_copy.iloc[:, i].astype('float')\n"
     ]
    },
    {
     "name": "stdout",
     "output_type": "stream",
     "text": [
      "<class 'pandas.core.frame.DataFrame'>\n",
      "RangeIndex: 113814 entries, 0 to 113813\n",
      "Columns: 165 entries, NOMINA to NOMBRE_correct_final\n",
      "dtypes: float64(136), object(29)\n",
      "memory usage: 143.3+ MB\n",
      "None\n"
     ]
    },
    {
     "name": "stderr",
     "output_type": "stream",
     "text": [
      "C:\\Users\\rodri\\AppData\\Local\\Temp\\ipykernel_13508\\4092160520.py:10: DeprecationWarning: In a future version, `df.iloc[:, i] = newvals` will attempt to set the values inplace instead of always setting a new array. To retain the old behavior, use either `df[df.columns[i]] = newvals` or, if columns are non-unique, `df.isetitem(i, newvals)`\n",
      "  buroc_12_22_copy.iloc[:, i] = buroc_12_22_copy.iloc[:, i].astype('float')\n"
     ]
    },
    {
     "name": "stdout",
     "output_type": "stream",
     "text": [
      "<class 'pandas.core.frame.DataFrame'>\n",
      "RangeIndex: 16774 entries, 0 to 16773\n",
      "Columns: 154 entries, NOMINA to NOMBRE_correct_final\n",
      "dtypes: float64(135), object(19)\n",
      "memory usage: 19.7+ MB\n",
      "None\n"
     ]
    }
   ],
   "source": [
    "for i in range(18,102):\n",
    "    magist_12_16_copy.iloc[:, i] = magist_12_16_copy.iloc[:, i].astype('float')\n",
    "print(magist_12_16_copy.info())\n",
    "\n",
    "for i in range(24,160):\n",
    "    magist_17_22_copy.iloc[:, i] = magist_17_22_copy.iloc[:, i].astype('float')\n",
    "print(magist_17_22_copy.info())\n",
    "\n",
    "for i in range(14,149):\n",
    "    buroc_12_22_copy.iloc[:, i] = buroc_12_22_copy.iloc[:, i].astype('float')\n",
    "print(buroc_12_22_copy.info())\n",
    "\n",
    "\n",
    "magist_12_16_percepciones_cols = magist_12_16_copy.columns[18:66]\n",
    "# print(magist_12_16_percepciones_cols)\n",
    "magist_12_16_deduciones_cols = magist_12_16_copy.columns[66:102]\n",
    "# print(magist_12_16_deduciones_cols)\n",
    "magist_12_16_copy['TOTAL_SALARY'] = magist_12_16_copy[magist_12_16_percepciones_cols].sum(axis=1) \n",
    "\n",
    "magist_17_22_percepciones_cols = magist_17_22_copy.columns[24:116]\n",
    "# print(magist_17_22_percepciones_cols)\n",
    "magist_17_22_deduciones_cols = magist_17_22_copy.columns[116:160]\n",
    "# print(magist_17_22_deduciones_cols)\n",
    "magist_17_22_copy['TOTAL_SALARY'] = magist_17_22_copy[magist_17_22_percepciones_cols].sum(axis=1)\n",
    "\n",
    "buroc_12_22_percepciones_cols = buroc_12_22_copy.columns[14:82]\n",
    "# print(buroc_12_22_percepciones_cols)\n",
    "buroc_12_22_deduciones_cols = buroc_12_22_copy.columns[82:149]\n",
    "# print(buroc_12_22_deduciones_cols)\n",
    "buroc_12_22_copy['TOTAL_SALARY'] = buroc_12_22_copy[buroc_12_22_percepciones_cols].sum(axis=1)"
   ]
  },
  {
   "cell_type": "markdown",
   "metadata": {},
   "source": [
    "## Creating concatenated DataFrame"
   ]
  },
  {
   "cell_type": "code",
   "execution_count": 22,
   "metadata": {},
   "outputs": [],
   "source": [
    "# magist_17_22_copy[['NOMBRE_correct_final', 'CICLO', 'CICLOEXT', 'NOMBRAM', 'UR', 'DESPARTIDA', 'AREA']].head(5000).sort_values(by=['NOMBRAM'])\n",
    "\n",
    "magist_buroc_salary_concat = pd.concat([magist_12_16_copy[['NOMBRE_correct_final', 'AÑO', 'CICLO', 'CICLOEXT', 'RFC_10', 'TOTAL_SALARY']], magist_17_22_copy[['NOMBRE_correct_final', 'AÑO', 'CICLO', 'CICLOEXT', 'RFC_10', 'TOTAL_SALARY']], buroc_12_22_copy[['NOMBRE_correct_final', 'AÑO', 'CICLO', 'CICLOEXT', 'RFC_10', 'TOTAL_SALARY']]], keys=['magist_12_16', 'magist_17_22', 'buroc_12_22'])"
   ]
  },
  {
   "cell_type": "markdown",
   "metadata": {},
   "source": [
    "## Creating CICLO_DATE column"
   ]
  },
  {
   "cell_type": "code",
   "execution_count": 23,
   "metadata": {},
   "outputs": [
    {
     "name": "stderr",
     "output_type": "stream",
     "text": [
      "C:\\Users\\rodri\\AppData\\Local\\Temp\\ipykernel_13508\\1795855331.py:5: DeprecationWarning: In a future version, `df.iloc[:, i] = newvals` will attempt to set the values inplace instead of always setting a new array. To retain the old behavior, use either `df[df.columns[i]] = newvals` or, if columns are non-unique, `df.isetitem(i, newvals)`\n",
      "  magist_buroc_salary_concat.loc[:, 'CICLO_DATE'] = pd.to_datetime(magist_buroc_salary_concat['CICLO_DATE'])\n"
     ]
    }
   ],
   "source": [
    "ciclo_to_month_mapping = {'1': 'january', '2':'january', '3': 'february' , '4': 'february', '5': 'march', '6': 'march', '7': 'april', '8': 'april', '9': 'may', '10': 'may', '11': 'june','12':'june', '13':'july', '14':'july', '15':'august', '16':'august', '17':'september', '18':'september', '19':'october', '20':'october', '21':'november', '22':'november', '23':'december', '24':'december'}\n",
    "\n",
    "magist_buroc_salary_concat['CICLO_MONTH'] = magist_buroc_salary_concat['CICLO'].map(ciclo_to_month_mapping)\n",
    "magist_buroc_salary_concat['CICLO_DATE'] = magist_buroc_salary_concat['AÑO'] + '-' + magist_buroc_salary_concat['CICLO_MONTH'] + '-01'\n",
    "magist_buroc_salary_concat.loc[:, 'CICLO_DATE'] = pd.to_datetime(magist_buroc_salary_concat['CICLO_DATE'])"
   ]
  },
  {
   "cell_type": "markdown",
   "metadata": {},
   "source": [
    "## Getting num of unique RFC_10s and TOTAL_SALARY for each date of CICLO_DATE"
   ]
  },
  {
   "cell_type": "code",
   "execution_count": 24,
   "metadata": {},
   "outputs": [
    {
     "name": "stdout",
     "output_type": "stream",
     "text": [
      "   CICLO_DATE  RFC_10  TOTAL_SALARY\n",
      "0  2012-03-01    7628  3.217838e+08\n",
      "1  2012-05-01    2098  3.791519e+07\n",
      "2  2012-09-01    3566  6.471696e+07\n",
      "3  2013-05-01    2096  4.464332e+07\n",
      "4  2013-09-01    2171  4.123677e+07\n",
      "5  2014-05-01    2039  4.298440e+07\n",
      "6  2014-09-01    2078  2.691866e+07\n",
      "7  2015-05-01    2088  4.643101e+07\n",
      "8  2015-09-01    2048  2.569181e+07\n",
      "9  2016-05-01    2092  4.710576e+07\n",
      "10 2016-09-01    1924  3.028564e+07\n",
      "11 2017-05-01    3149  8.478911e+07\n",
      "12 2017-09-01    2942  5.243426e+07\n",
      "13 2018-05-01    3186  9.108837e+07\n",
      "14 2018-09-01    3060  7.131600e+07\n",
      "15 2019-05-01    3307  8.893455e+07\n",
      "16 2019-09-01    3049  7.052028e+07\n",
      "17 2020-05-01    3288  9.695617e+07\n",
      "18 2020-09-01    3054  6.509010e+07\n",
      "19 2021-05-01    3306  9.854029e+07\n",
      "20 2021-09-01    3134  6.745733e+07\n",
      "21 2022-05-01    3248  1.011022e+08\n",
      "22 2022-09-01    2991  4.187749e+07\n"
     ]
    }
   ],
   "source": [
    "df_for_plotting = magist_buroc_salary_concat.groupby(['CICLO_DATE'])['RFC_10'].nunique().reset_index().merge(magist_buroc_salary_concat.groupby('CICLO_DATE')['TOTAL_SALARY'].sum(), on='CICLO_DATE')\n",
    "print(df_for_plotting)"
   ]
  },
  {
   "cell_type": "markdown",
   "metadata": {},
   "source": [
    "## Create Plot"
   ]
  },
  {
   "cell_type": "code",
   "execution_count": 25,
   "metadata": {},
   "outputs": [
    {
     "data": {
      "text/plain": [
       "[<matplotlib.lines.Line2D at 0x1ea82ed0350>]"
      ]
     },
     "execution_count": 25,
     "metadata": {},
     "output_type": "execute_result"
    },
    {
     "data": {
      "image/png": "[encoded data removed]",
      "text/plain": [
       "<Figure size 1400x800 with 1 Axes>"
      ]
     },
     "metadata": {},
     "output_type": "display_data"
    }
   ],
   "source": [
    "plt.figure(figsize = (14,8))\n",
    "plt.plot(df_for_plotting['CICLO_DATE'], df_for_plotting['TOTAL_SALARY'], 'o')"
   ]
  }
 ],
 "metadata": {
  "kernelspec": {
   "display_name": "my_virtual_environment_1",
   "language": "python",
   "name": "python3"
  },
  "language_info": {
   "codemirror_mode": {
    "name": "ipython",
    "version": 3
   },
   "file_extension": ".py",
   "mimetype": "text/x-python",
   "name": "python",
   "nbconvert_exporter": "python",
   "pygments_lexer": "ipython3",
   "version": "3.11.4"
  }
 },
 "nbformat": 4,
 "nbformat_minor": 2
}
